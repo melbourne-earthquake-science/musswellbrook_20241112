{
 "cells": [
  {
   "cell_type": "code",
   "execution_count": 8,
   "id": "62090126-23a9-45a9-bcaf-53f38a7c8e44",
   "metadata": {},
   "outputs": [],
   "source": [
    "import obspy\n",
    "import matplotlib.pyplot as plt\n",
    "from obspy import UTCDateTime\n",
    "from obspy.clients.fdsn import Client\n",
    "import os"
   ]
  },
  {
   "cell_type": "code",
   "execution_count": 18,
   "id": "78aa8f7d-ed45-474d-b9c9-4755be657432",
   "metadata": {},
   "outputs": [
    {
     "name": "stdout",
     "output_type": "stream",
     "text": [
      "1 Trace(s) in Stream:\n",
      "YW.MSWL6.00.BHZ | 2024-11-12T01:12:30.000000Z - 2024-11-12T01:13:30.000000Z | 40.0 Hz, 2401 samples\n"
     ]
    }
   ],
   "source": [
    "\n",
    "\n",
    "# Initialize the FDSN client, for example, from IRIS or a regional network provider\n",
    "client = Client(\"IRIS\")\n",
    "\n",
    "# Define station parameters\n",
    "network = \"YW\"\n",
    "station = \"MSWL6\"\n",
    "location = \"00\"\n",
    "channel = \"BHZ\"\n",
    "\n",
    "# Define a time window for the search\n",
    "start_time = UTCDateTime(\"2024-11-12T01:12:30\")\n",
    "end_time = UTCDateTime(\"2024-11-12T01:13:30\")\n",
    "\n",
    "# Request data\n",
    "try:\n",
    "    st = client.get_waveforms(network=network, station=station, location=location, \n",
    "                              channel=channel, starttime=start_time, endtime=end_time)\n",
    "    print(st)\n",
    "except Exception as e:\n",
    "    print(f\"Data retrieval failed: {e}\")"
   ]
  },
  {
   "cell_type": "code",
   "execution_count": 19,
   "id": "ff12a781-3579-4e12-89f3-f4b3636493f1",
   "metadata": {},
   "outputs": [
    {
     "data": {
      "image/png": "[encoded data removed]",
      "text/plain": [
       "<Figure size 800x250 with 1 Axes>"
      ]
     },
     "metadata": {},
     "output_type": "display_data"
    }
   ],
   "source": [
    "st.plot();"
   ]
  },
  {
   "cell_type": "code",
   "execution_count": 24,
   "id": "cce29522-3e99-42de-882f-b06709deef9e",
   "metadata": {},
   "outputs": [
    {
     "name": "stdout",
     "output_type": "stream",
     "text": [
      "Station: foo\n"
     ]
    }
   ],
   "source": [
    "for tr in st:\n",
    "    print(f\"Station: {tr.stats.station}\")\n",
    "    #print(f\"Latitude: {tr.stats.latitude}\")"
   ]
  },
  {
   "cell_type": "code",
   "execution_count": 9,
   "id": "79a48756-aaed-4b6a-ad2f-5e892ac82ce2",
   "metadata": {},
   "outputs": [
    {
     "name": "stdout",
     "output_type": "stream",
     "text": [
      "Error retrieving data for MSWL0: No data available for request.\n",
      "HTTP Status code: 204\n",
      "Detailed response of server:\n",
      "\n",
      "\n",
      "Data for MSWL1 saved to miniseed_data/MSWL1_BHZ.mseed\n",
      "Data for MSWL2 saved to miniseed_data/MSWL2_BHZ.mseed\n",
      "Error retrieving data for MSWL3: No data available for request.\n",
      "HTTP Status code: 204\n",
      "Detailed response of server:\n",
      "\n",
      "\n",
      "Error retrieving data for MSWL4: No data available for request.\n",
      "HTTP Status code: 204\n",
      "Detailed response of server:\n",
      "\n",
      "\n",
      "Data for MSWL5 saved to miniseed_data/MSWL5_BHZ.mseed\n",
      "Data for MSWL6 saved to miniseed_data/MSWL6_BHZ.mseed\n",
      "Error retrieving data for MSWL7: No data available for request.\n",
      "HTTP Status code: 204\n",
      "Detailed response of server:\n",
      "\n",
      "\n",
      "Error retrieving data for MSWL8: No data available for request.\n",
      "HTTP Status code: 204\n",
      "Detailed response of server:\n",
      "\n",
      "\n"
     ]
    }
   ],
   "source": [
    "# Directory to save MiniSEED files\n",
    "output_dir = \"miniseed_data\"\n",
    "if not os.path.exists(output_dir):\n",
    "    os.makedirs(output_dir)\n",
    "\n",
    "# Loop through stations MSWL0 to MSWL8\n",
    "for i in range(9):  # Station MSWL0 to MSWL8\n",
    "    station = f\"MSWL{i}\"\n",
    "    \n",
    "    try:\n",
    "        # Request waveform data for the current station\n",
    "        st = client.get_waveforms(network=network, station=station, location=location, \n",
    "                                  channel=channel, starttime=start_time, endtime=end_time)\n",
    "        \n",
    "        if len(st) > 0:\n",
    "            # If the stream is not empty, save it as MiniSEED\n",
    "            filename = os.path.join(output_dir, f\"{station}_BHZ.mseed\")\n",
    "            st.write(filename, format=\"MSEED\")\n",
    "            print(f\"Data for {station} saved to {filename}\")\n",
    "        else:\n",
    "            print(f\"No data available for {station}\")\n",
    "    \n",
    "    except Exception as e:\n",
    "        print(f\"Error retrieving data for {station}: {e}\")"
   ]
  },
  {
   "cell_type": "markdown",
   "id": "402b7c43-a101-4a26-b01c-f0e6f6cf7edd",
   "metadata": {},
   "source": [
    "# Meta data (for location with Waves)"
   ]
  },
  {
   "cell_type": "markdown",
   "id": "6222ab74-ce7b-4e6b-a935-d31038e13ef0",
   "metadata": {},
   "source": [
    "Meta Data and Station.xml\n",
    "\n",
    "If you have opened a MiniSEED file from a folder that also contains a related station.xml file,\n",
    "the .xml file contents will be displayed in the tab. \n",
    "If there is no .xml file, Waves will look up the IRIS DMC for a channel that matches \n",
    "the station/network/location ID and automatically populate the meta data fields. \n",
    "Waves will also store the station.xml file in your user/eqsuitefiles/response \n",
    "folder for future use."
   ]
  },
  {
   "cell_type": "code",
   "execution_count": null,
   "id": "da385960-3e25-40b7-b855-637ca08009ea",
   "metadata": {},
   "outputs": [],
   "source": []
  }
 ],
 "metadata": {
  "kernelspec": {
   "display_name": "Python 3 (ipykernel)",
   "language": "python",
   "name": "python3"
  },
  "language_info": {
   "codemirror_mode": {
    "name": "ipython",
    "version": 3
   },
   "file_extension": ".py",
   "mimetype": "text/x-python",
   "name": "python",
   "nbconvert_exporter": "python",
   "pygments_lexer": "ipython3",
   "version": "3.9.19"
  }
 },
 "nbformat": 4,
 "nbformat_minor": 5
}
